{
  "nbformat": 4,
  "nbformat_minor": 0,
  "metadata": {
    "colab": {
      "provenance": [],
      "authorship_tag": "ABX9TyPY+HN+VkoX4R5uvDtcaOPn",
      "include_colab_link": true
    },
    "kernelspec": {
      "name": "python3",
      "display_name": "Python 3"
    },
    "language_info": {
      "name": "python"
    }
  },
  "cells": [
    {
      "cell_type": "markdown",
      "metadata": {
        "id": "view-in-github",
        "colab_type": "text"
      },
      "source": [
        "<a href=\"https://colab.research.google.com/github/Pooja-dotc/simple_chatboat_CODSOFT/blob/main/simple_chatboat_CODSOFT.ipynb\" target=\"_parent\"><img src=\"https://colab.research.google.com/assets/colab-badge.svg\" alt=\"Open In Colab\"/></a>"
      ]
    },
    {
      "cell_type": "code",
      "execution_count": 3,
      "metadata": {
        "colab": {
          "base_uri": "https://localhost:8080/"
        },
        "id": "uGed4JGpEEhm",
        "outputId": "54180146-10ae-4bb8-e88e-66012dd99972"
      },
      "outputs": [
        {
          "output_type": "stream",
          "name": "stdout",
          "text": [
            "Chatbot: Hi! I am Pooja, your friendly chatbot. How can I assist you today?\n",
            "You: hi\n",
            "Chatbot: Hello! How can I assist you today?\n",
            "You: what's your name?\n",
            "Chatbot: I am Pooja, your friendly rule-based chatbot.\n",
            "You: how are you?\n",
            "Chatbot: I'm good thank you, How are you? And How can I help you?\n",
            "You: bye\n",
            "Chatbot: Goodbye! Have a great day!\n",
            "You: exit\n",
            "Chatbot: Goodbye! Have a great day!\n"
          ]
        }
      ],
      "source": [
        "def chatbot_response(user_input):\n",
        "    user_input = user_input.lower()\n",
        "\n",
        "    # Define some simple rules and responses\n",
        "    if \"hello\" in user_input or \"hi\" in user_input:\n",
        "        return \"Hello! How can I assist you today?\"\n",
        "\n",
        "    elif \"how are you\" in user_input:\n",
        "        return \"I'm good thank you, How are you? And How can I help you?\"\n",
        "\n",
        "    elif \"what's your name?\" in user_input or \"who are you?\" in user_input:\n",
        "        return \"I am Pooja, your friendly rule-based chatbot.\"\n",
        "\n",
        "    elif \"bye\" in user_input or \"goodbye\" in user_input:\n",
        "        return \"Goodbye! Have a great day!\"\n",
        "\n",
        "    else:\n",
        "        return \"I'm sorry, I don't understand. Can you please rephrase or ask another question?\"\n",
        "\n",
        "# Main loop for user interaction\n",
        "def main():\n",
        "    print(\"Chatbot: Hi! I am Pooja, your friendly chatbot. How can I assist you today?\")\n",
        "\n",
        "    while True:\n",
        "        user_input = input(\"You: \")\n",
        "        if user_input.lower() == 'exit':\n",
        "            print(\"Chatbot: Goodbye! Have a great day!\")\n",
        "            break\n",
        "        else:\n",
        "            response = chatbot_response(user_input)\n",
        "            print(\"Chatbot:\", response)\n",
        "\n",
        "if __name__ == \"__main__\":\n",
        "    main()"
      ]
    }
  ]
}